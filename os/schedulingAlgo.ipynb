{
 "metadata": {
  "language_info": {
   "codemirror_mode": {
    "name": "ipython",
    "version": 3
   },
   "file_extension": ".py",
   "mimetype": "text/x-python",
   "name": "python",
   "nbconvert_exporter": "python",
   "pygments_lexer": "ipython3",
   "version": "3.9.5"
  },
  "orig_nbformat": 4,
  "kernelspec": {
   "name": "python3",
   "display_name": "Python 3.9.5 64-bit"
  },
  "interpreter": {
   "hash": "4cd7ab41f5fca4b9b44701077e38c5ffd31fe66a6cab21e0214b68d958d0e462"
  }
 },
 "nbformat": 4,
 "nbformat_minor": 2,
 "cells": [
  {
   "source": [
    "# Scheduling Algorithms\n",
    "This is a program to give you graphical outputs of the scheduling algorithms mentioned in the OS class.\n",
    "Our aim here in particular is to schedule, find the total time and print the output using the given input according to the following algorithms:\n",
    "- FIFO\n",
    "- SSTF\n",
    "- SCAN\n",
    "- CSCAN\n",
    "- LOOK\n",
    "- CLOOK\n",
    "\n",
    "We will be using two packages:\n",
    "- <em>Matplotlib</em> for plotting the graph using the inputs and the help of the algorithm.\n",
    "- <em>Tkinter</em> for creating a GUI to take input from users rather than using the terminal.\n",
    "\n"
   ],
   "cell_type": "markdown",
   "metadata": {}
  },
  {
   "cell_type": "code",
   "execution_count": 1,
   "metadata": {},
   "outputs": [],
   "source": [
    "import matplotlib.pyplot\n",
    "matplotlib.use(\"TkAgg\")\n",
    "import matplotlib.pyplot as plt\n",
    "import numpy as np\n",
    "import tkinter as tk"
   ]
  },
  {
   "source": [
    "## Initialisation\n",
    "We initialise the ```queue```, a variable ```start``` and ```maxValue``` that will be later provided by the user. As there are 6 graphs to be obtained(as there are 6 algortihms), we will also initialise a plot with 6 subplots i.e. the plot will be inform of 2x3 matrix."
   ],
   "cell_type": "markdown",
   "metadata": {}
  },
  {
   "cell_type": "code",
   "execution_count": 2,
   "metadata": {},
   "outputs": [],
   "source": [
    "queue = []\n",
    "start = 50\n",
    "maxValue = 99"
   ]
  },
  {
   "source": [
    "## Calculating the time\n",
    "One can calculate the time by finding the difference between each point."
   ],
   "cell_type": "markdown",
   "metadata": {}
  },
  {
   "cell_type": "code",
   "execution_count": 3,
   "metadata": {},
   "outputs": [],
   "source": [
    "def getTime(arr) -> int:\n",
    "    time = 0\n",
    "    for i in range(1, len(arr)):\n",
    "        time += abs(arr[i - 1] - arr[i])\n",
    "    return time"
   ]
  },
  {
   "source": [
    "## Scheduling Algorithms"
   ],
   "cell_type": "markdown",
   "metadata": {}
  },
  {
   "source": [
    "### FCFS\n",
    "FCFS services the jobs in the queue right after they come in queue"
   ],
   "cell_type": "markdown",
   "metadata": {}
  },
  {
   "cell_type": "code",
   "execution_count": 4,
   "metadata": {},
   "outputs": [],
   "source": [
    "def FCFS(queue):\n",
    "    queue = [start] + queue  # you start from the starting position here\n",
    "    return queue, getTime(queue)"
   ]
  },
  {
   "source": [
    "### SSTF\n",
    "SSTF or shortest seek time first algorithm goes to the points which have the minimum distance from the current point at the moment."
   ],
   "cell_type": "markdown",
   "metadata": {}
  },
  {
   "cell_type": "code",
   "execution_count": 5,
   "metadata": {},
   "outputs": [],
   "source": [
    "def SSTF(queue):\n",
    "    queue = sorted(queue + [start])\n",
    "    retqueue = []\n",
    "    ind = queue.index(start)\n",
    "    while len(queue) != 1:\n",
    "        # use max * 2 because if its max then naturally we wont select it\n",
    "        before = queue[ind] - (maxValue * 2 if ind == 0 else queue[ind - 1])\n",
    "        after = queue[ind] - (queue[ind + 1] if ind < len(queue) - 1 else maxValue * 2)\n",
    "        retqueue.append(queue[ind])\n",
    "        del queue[ind]\n",
    "        if abs(before) <= abs(after):  # if the previous position in queue is closer\n",
    "            ind -= 1\n",
    "    retqueue += queue\n",
    "    return (retqueue, getTime(retqueue))"
   ]
  },
  {
   "source": [
    "### SCAN\n",
    "The SCAN algorithm goes to one end and then from that end to the other services all the requests coming in its way. note that it meets both ends"
   ],
   "cell_type": "markdown",
   "metadata": {}
  },
  {
   "cell_type": "code",
   "execution_count": 6,
   "metadata": {},
   "outputs": [],
   "source": [
    "def SCAN(queue):\n",
    "    queue = sorted(queue + [start])\n",
    "    ind = queue.index(start)  \n",
    "    # assume that the queue has unique values\n",
    "    # it is going right to max then left to zero. note that some implementations ask for a direction. we just go initially in the direction of the lowest number of pending requests\n",
    "    if len(queue[0: ind]) >= len(queue[ind: -1]):\n",
    "        queue = queue[ind:] + [maxValue] + list(reversed(queue[0:ind]))\n",
    "    else:\n",
    "        queue = list(reversed(queue[0: ind])) + [0] + queue[ind: -1]\n",
    "    return queue, getTime(queue)"
   ]
  },
  {
   "source": [
    "### CSCAN\n",
    "The idea with CSCAN is that it goes directly to the end, then goes back to the start and services one by one."
   ],
   "cell_type": "markdown",
   "metadata": {}
  },
  {
   "cell_type": "code",
   "execution_count": 7,
   "metadata": {},
   "outputs": [],
   "source": [
    "def CSCAN(queue):\n",
    "    queue = sorted(queue + [start])\n",
    "    ind = queue.index(start)  \n",
    "    # assume that the queue has unique values\n",
    "    # note that the algorithm goes from the start point to the end, then goes back to zero (ignoring those in between) and starts servicing from zero\n",
    "    queue = queue[ind:] + [maxValue] + [0] + queue[0:ind]  # this is what you must do if asked\n",
    "    return queue, getTime(queue)"
   ]
  },
  {
   "source": [
    "### LOOK\n",
    "LOOK scheduling is just SCAN scheduling, but instead of going to extreme ends of the disk it just goes to the extreme ends of the queue"
   ],
   "cell_type": "markdown",
   "metadata": {}
  },
  {
   "cell_type": "code",
   "execution_count": 8,
   "metadata": {},
   "outputs": [],
   "source": [
    "def LOOK(queue):\n",
    "    queue = sorted(queue + [start])\n",
    "    ind = queue.index(start)  \n",
    "    # assume that the queue has unique values\n",
    "    # it is going right to the largest value then left to lowest. note that some implementations ask for a direction. we just go initially in the direction of the lowest number of pending requests\n",
    "    if len(queue[0: ind]) >= len(queue[ind: -1]):\n",
    "        queue = queue[ind:] + list(reversed(queue[0:ind]))\n",
    "    else:\n",
    "        queue = list(reversed(queue[0: ind])) + queue[ind: -1]\n",
    "    return queue, getTime(queue)"
   ]
  },
  {
   "source": [
    "### CLOOK\n",
    "CLOOK is just like CSCAN scheduling but instead of going to extreme ends of the disk it just goes to the extreme ends of the queue"
   ],
   "cell_type": "markdown",
   "metadata": {}
  },
  {
   "cell_type": "code",
   "execution_count": 9,
   "metadata": {},
   "outputs": [],
   "source": [
    "def CLOOK(queue):\n",
    "    queue = sorted(queue + [start])\n",
    "    ind = queue.index(start)  \n",
    "    # assume that the queue has unique values\n",
    "    # note that the algorithm goes from the start point to the end, then goes back to zero (ignoring those in between) and starts servicing from zero\n",
    "    queue = queue[ind:] + queue[0:ind]  # this is what you must do if asked\n",
    "    return queue, getTime(queue)"
   ]
  },
  {
   "source": [
    "## Calling and Plotting\n",
    "With the inputs, we call 6 algorithms hence 6 graphs are generated, we need to place these graphs as a subplot in a plot.</br>\n",
    "Hence, our first function should be a function that places a graph in a subplot."
   ],
   "cell_type": "markdown",
   "metadata": {}
  },
  {
   "cell_type": "code",
   "execution_count": 10,
   "metadata": {},
   "outputs": [],
   "source": [
    "def graphher(arr, title, i, j, ax):\n",
    "    x = np.array(arr)\n",
    "    y = np.array(range(0, len(x)))\n",
    "    ax[i, j].xaxis.tick_top()\n",
    "    ax[i, j].plot(x, y, '-bo', mfc='black', mec='k')\n",
    "    ax[i, j].set_title(title)"
   ]
  },
  {
   "source": [
    "### Algorithm Call\n",
    "We now define a function that will call the respective algorithms, print the results, place the subplots and then call the plot as to view the graphs."
   ],
   "cell_type": "markdown",
   "metadata": {}
  },
  {
   "cell_type": "code",
   "execution_count": 11,
   "metadata": {},
   "outputs": [],
   "source": [
    "plt.rcParams[\"figure.figsize\"] = (50,50) # Setting the plots to max width\n",
    "def algoApplier():\n",
    "    fig, ax = plt.subplots(2, 3, sharex=True, sharey=True)\n",
    "    plt.gca().invert_yaxis()\n",
    "    a, b = FCFS(queue)\n",
    "    print(\"FCFS:\",a, b)\n",
    "    graphher(a, \"FCFS\", 0, 0, ax)\n",
    "    a, b = SSTF(queue)\n",
    "    print(\"SSTF:\",a, b)\n",
    "    graphher(a, \"SSTF\", 0, 1, ax)\n",
    "    a, b = SCAN(queue)\n",
    "    print(\"SCAN:\",a, b)\n",
    "    graphher(a, \"SCAN\", 0, 2, ax)\n",
    "    a, b = CSCAN(queue)\n",
    "    print(\"CSCAN:\",a, b)\n",
    "    graphher(a, \"CSCAN\", 1, 0, ax)\n",
    "    a, b = LOOK(queue)\n",
    "    print(\"LOOK:\",a, b)\n",
    "    graphher(a, \"LOOK\", 1, 1, ax)\n",
    "    a, b = CLOOK(queue)\n",
    "    print(\"CLOOK:\",a, b)\n",
    "    graphher(a, \"CLOOK\", 1, 2, ax)\n",
    "    print(\"-\"*20)\n",
    "    plt.show()"
   ]
  },
  {
   "source": [
    "## Taking the input\n",
    "Now we use Tkinter to take the required input by creating a GUI and then we call ```algoApplier()``` as to print, insert the subplot and show the plot. Here after you close the graph window, you can hit the <em>Show</em> button again and again with different set of values.\n",
    "\n",
    "### Example\n",
    "Values : ```74 32 11 96 27 52 64 89 3 77```\n",
    "\n",
    "Starting Point : ```22``` \n",
    "\n",
    "Maximum Value : ```100```\n",
    "\n",
    "You will get a graph and once you view it, close the window and enter the new set of values,\n",
    "\n",
    "Values : ```9 1 5 8 2 3```\n",
    "\n",
    "Starting Point : ```7``` \n",
    "\n",
    "Maximum Value : ```10```\n",
    "\n",
    "Clicking on <em>Show</em> will now generate a new graph.\n",
    "\n",
    "You will have gotten the order and the time of both these graphs as output."
   ],
   "cell_type": "markdown",
   "metadata": {}
  },
  {
   "cell_type": "code",
   "execution_count": 12,
   "metadata": {},
   "outputs": [
    {
     "output_type": "stream",
     "name": "stdout",
     "text": [
      "FCFS: [22, 74, 32, 11, 96, 27, 52, 64, 89, 3, 77] 491\n",
      "SSTF: [22, 27, 32, 52, 64, 74, 77, 89, 96, 11, 3] 167\n",
      "SCAN: [11, 3, 0, 22, 27, 32, 52, 64, 74, 77, 89] 100\n",
      "CSCAN: [22, 27, 32, 52, 64, 74, 77, 89, 96, 100, 0, 3, 11] 189\n",
      "LOOK: [11, 3, 22, 27, 32, 52, 64, 74, 77, 89] 94\n",
      "CLOOK: [22, 27, 32, 52, 64, 74, 77, 89, 96, 3, 11] 175\n",
      "--------------------\n",
      "FCFS: [7, 9, 1, 5, 8, 2, 3] 24\n",
      "SSTF: [7, 8, 9, 5, 3, 2, 1] 10\n",
      "SCAN: [7, 8, 9, 10, 5, 3, 2, 1] 12\n",
      "CSCAN: [7, 8, 9, 10, 0, 1, 2, 3, 5] 18\n",
      "LOOK: [7, 8, 9, 5, 3, 2, 1] 10\n",
      "CLOOK: [7, 8, 9, 1, 2, 3, 5] 14\n",
      "--------------------\n"
     ]
    }
   ],
   "source": [
    "master = tk.Tk()\n",
    "master.title(\"Scheduling Algo\")\n",
    "tk.Label(master, text=\"Values (space separated)\", padx=5).grid(row = 0)\n",
    "tk.Label(master, text=\"Starting point\", padx=5).grid(row=1)\n",
    "tk.Label(master, text=\"Maximum value\", padx=5).grid(row=2)\n",
    "e1 = tk.Entry(master)\n",
    "e2 = tk.Entry(master)\n",
    "e3 = tk.Entry(master)\n",
    "\n",
    "e1.grid(row=0, column=1)\n",
    "e2.grid(row=1, column=1)\n",
    "e3.grid(row=2, column=1)\n",
    "\n",
    "def take_input():\n",
    "    global queue\n",
    "    global start\n",
    "    global maxValue\n",
    "    queue = [int(x) for x in e1.get().split()]\n",
    "    start = int(e2.get())\n",
    "    maxValue = int(e3.get())\n",
    "    algoApplier()\n",
    "\n",
    "tk.Button(master,\n",
    "          text='Show', command=take_input).grid(row=3,column=1,sticky=tk.W)\n",
    "tk.mainloop()"
   ]
  },
  {
   "source": [
    "<p align=\"center\" width=\"100%\">\n",
    "<img src=\"https://i.ibb.co/RH9t433/Screenshot-2021-06-20-at-2-49-38-PM.png\" alt=\"Screenshot\" border=\"1\" height=\"400\" width=\"600\">\n",
    "</p>"
   ],
   "cell_type": "markdown",
   "metadata": {}
  }
 ]
}